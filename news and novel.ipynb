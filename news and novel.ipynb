{
 "cells": [
  {
   "cell_type": "code",
   "execution_count": 10,
   "metadata": {
    "collapsed": false
   },
   "outputs": [
    {
     "data": {
      "text/plain": [
       "['中華職棒今年猿象爭霸打了7場比賽',\n",
       " '票房強強滾',\n",
       " '7戰滿了3場',\n",
       " '總觀眾人數是破紀錄的12萬2127人',\n",
       " '票房收入加上周邊相關的商品收入',\n",
       " '預估收入破億元',\n",
       " '也是中職史上的新紀錄。中職近3年來票房回春',\n",
       " '尤其是Lamigo桃猿經營桃園主場成功',\n",
       " '更是成了典範',\n",
       " '而桃猿不僅完成二連霸',\n",
       " '賺到了面子',\n",
       " '而且從季賽到總冠軍賽',\n",
       " '票房都是四隊之冠',\n",
       " '更是賺到了裡子',\n",
       " '桃猿隊的經營模式值得各隊參考。今年總冠軍在桃園進行的第1、2、6、7戰',\n",
       " '觀眾人數分別是1萬9426人、1萬7128人、2萬人、2萬人',\n",
       " '在新莊進行的第3戰是1萬2500人',\n",
       " '在台中洲際棒球場進行的第4戰及第5戰分別是1萬4263人及1萬8810人',\n",
       " '總人數達12萬2127人',\n",
       " '即使不算商品收入',\n",
       " '桃猿票房收入預估超過7000萬元',\n",
       " '中信兄弟也超過4000萬元',\n",
       " '破億絕對不是問題。']"
      ]
     },
     "execution_count": 10,
     "metadata": {},
     "output_type": "execute_result"
    }
   ],
   "source": [
    "news='中華職棒今年猿象爭霸打了7場比賽，票房強強滾，7戰滿了3場，總觀眾人數是破紀錄的12萬2127人，票房收入加上周邊相關的商品收入，預估收入破億元，也是中職史上的新紀錄。中職近3年來票房回春，尤其是Lamigo桃猿經營桃園主場成功，更是成了典範，而桃猿不僅完成二連霸，賺到了面子，而且從季賽到總冠軍賽，票房都是四隊之冠，更是賺到了裡子，桃猿隊的經營模式值得各隊參考。今年總冠軍在桃園進行的第1、2、6、7戰，觀眾人數分別是1萬9426人、1萬7128人、2萬人、2萬人，在新莊進行的第3戰是1萬2500人，在台中洲際棒球場進行的第4戰及第5戰分別是1萬4263人及1萬8810人，總人數達12萬2127人，即使不算商品收入，桃猿票房收入預估超過7000萬元，中信兄弟也超過4000萬元，破億絕對不是問題。'\n",
    "news.split(\"，\")\n"
   ]
  },
  {
   "cell_type": "code",
   "execution_count": 13,
   "metadata": {
    "collapsed": false
   },
   "outputs": [
    {
     "name": "stdout",
     "output_type": "stream",
     "text": [
      "提示: 新聞,不好看,不用錢\n"
     ]
    }
   ],
   "source": [
    "news2=['新聞','不好看','不用錢']\n",
    "news2_string=','.join(news2)\n",
    "print(\"提示:\",news2_string)"
   ]
  },
  {
   "cell_type": "code",
   "execution_count": 15,
   "metadata": {
    "collapsed": false
   },
   "outputs": [],
   "source": [
    "import requests\n",
    "response=requests.get(\"http://www.novelscape.net/khxs/t/tianzhongfangshu/yhyx/lm/0.htm\")\n",
    "response.encoding=\"big5\"\n",
    "book1=response.text"
   ]
  },
  {
   "cell_type": "code",
   "execution_count": 18,
   "metadata": {
    "collapsed": false
   },
   "outputs": [
    {
     "data": {
      "text/plain": [
       "30"
      ]
     },
     "execution_count": 18,
     "metadata": {},
     "output_type": "execute_result"
    }
   ],
   "source": [
    "word2=\"銀河\"\n",
    "book1.count(word2)"
   ]
  },
  {
   "cell_type": "code",
   "execution_count": 21,
   "metadata": {
    "collapsed": false
   },
   "outputs": [
    {
     "data": {
      "text/plain": [
       "'除了鎮壓反對派，另一方面，魯道夫也選出所謂的「优秀人才」'"
      ]
     },
     "execution_count": 21,
     "metadata": {},
     "output_type": "execute_result"
    }
   ],
   "source": [
    "book2=\"除了鎮壓反對派，另一方面，魯道夫也選出所謂的「优秀人才」...\"\n",
    "book2.strip(\".\")"
   ]
  },
  {
   "cell_type": "code",
   "execution_count": 25,
   "metadata": {
    "collapsed": false
   },
   "outputs": [
    {
     "data": {
      "text/plain": [
       "<function str.count>"
      ]
     },
     "execution_count": 25,
     "metadata": {},
     "output_type": "execute_result"
    }
   ],
   "source": []
  },
  {
   "cell_type": "code",
   "execution_count": null,
   "metadata": {
    "collapsed": true
   },
   "outputs": [],
   "source": []
  }
 ],
 "metadata": {
  "kernelspec": {
   "display_name": "Python 3",
   "language": "python",
   "name": "python3"
  },
  "language_info": {
   "codemirror_mode": {
    "name": "ipython",
    "version": 3
   },
   "file_extension": ".py",
   "mimetype": "text/x-python",
   "name": "python",
   "nbconvert_exporter": "python",
   "pygments_lexer": "ipython3",
   "version": "3.4.3"
  }
 },
 "nbformat": 4,
 "nbformat_minor": 0
}
