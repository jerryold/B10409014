{
 "cells": [
  {
   "cell_type": "code",
   "execution_count": 7,
   "metadata": {
    "collapsed": false
   },
   "outputs": [
    {
     "data": {
      "text/plain": [
       "4"
      ]
     },
     "execution_count": 7,
     "metadata": {},
     "output_type": "execute_result"
    }
   ],
   "source": [
    "import pandas as pd\n",
    "series=pd.Series([1,2,3,4,5])\n",
    "series[3]"
   ]
  },
  {
   "cell_type": "code",
   "execution_count": 8,
   "metadata": {
    "collapsed": false
   },
   "outputs": [
    {
     "data": {
      "text/plain": [
       "0    0\n",
       "1    2\n",
       "2    3\n",
       "3    4\n",
       "4    5\n",
       "dtype: int64"
      ]
     },
     "execution_count": 8,
     "metadata": {},
     "output_type": "execute_result"
    }
   ],
   "source": [
    "series[0]=0\n",
    "series"
   ]
  },
  {
   "cell_type": "code",
   "execution_count": 31,
   "metadata": {
    "collapsed": false
   },
   "outputs": [
    {
     "data": {
      "text/plain": [
       "台灣    31900.000\n",
       "日本    29294.160\n",
       "澳洲    36060.720\n",
       "美國    32422.545\n",
       "香港    30551.040\n",
       "dtype: float64"
      ]
     },
     "execution_count": 31,
     "metadata": {},
     "output_type": "execute_result"
    }
   ],
   "source": [
    "macAirPrice = pd.Series([31900, 7488, 112800, 999, 1549], index=['台灣', '香港', '日本', '美國', '澳洲'])\n",
    "exchangeRate = pd.Series([32.45500, 4.08000, 23.28000, 0.25970, 1], index=['美國', '香港', '澳洲', '日本', '台灣'])\n",
    "macAirPriceTD=macAirPrice*exchangeRate\n",
    "macAirPriceTD"
   ]
  },
  {
   "cell_type": "code",
   "execution_count": 15,
   "metadata": {
    "collapsed": false
   },
   "outputs": [
    {
     "data": {
      "text/html": [
       "<div>\n",
       "<table border=\"1\" class=\"dataframe\">\n",
       "  <thead>\n",
       "    <tr style=\"text-align: right;\">\n",
       "      <th></th>\n",
       "      <th>原始價格</th>\n",
       "      <th>台幣：外幣</th>\n",
       "      <th>外幣：台幣</th>\n",
       "      <th>實際價格</th>\n",
       "    </tr>\n",
       "  </thead>\n",
       "  <tbody>\n",
       "    <tr>\n",
       "      <th>台灣</th>\n",
       "      <td>31900</td>\n",
       "      <td>1.000000</td>\n",
       "      <td>1.0000</td>\n",
       "      <td>31900.000</td>\n",
       "    </tr>\n",
       "    <tr>\n",
       "      <th>日本</th>\n",
       "      <td>112800</td>\n",
       "      <td>3.850597</td>\n",
       "      <td>0.2597</td>\n",
       "      <td>29294.160</td>\n",
       "    </tr>\n",
       "    <tr>\n",
       "      <th>澳洲</th>\n",
       "      <td>1549</td>\n",
       "      <td>0.042955</td>\n",
       "      <td>23.2800</td>\n",
       "      <td>36060.720</td>\n",
       "    </tr>\n",
       "    <tr>\n",
       "      <th>美國</th>\n",
       "      <td>999</td>\n",
       "      <td>0.030812</td>\n",
       "      <td>32.4550</td>\n",
       "      <td>32422.545</td>\n",
       "    </tr>\n",
       "    <tr>\n",
       "      <th>香港</th>\n",
       "      <td>7488</td>\n",
       "      <td>0.245098</td>\n",
       "      <td>4.0800</td>\n",
       "      <td>30551.040</td>\n",
       "    </tr>\n",
       "  </tbody>\n",
       "</table>\n",
       "</div>"
      ],
      "text/plain": [
       "      原始價格     台幣：外幣    外幣：台幣       實際價格\n",
       "台灣   31900  1.000000   1.0000  31900.000\n",
       "日本  112800  3.850597   0.2597  29294.160\n",
       "澳洲    1549  0.042955  23.2800  36060.720\n",
       "美國     999  0.030812  32.4550  32422.545\n",
       "香港    7488  0.245098   4.0800  30551.040"
      ]
     },
     "execution_count": 15,
     "metadata": {},
     "output_type": "execute_result"
    }
   ],
   "source": [
    "macIndex = pd.DataFrame({\n",
    "        '原始價格': macAirPrice,\n",
    "        '外幣：台幣': exchangeRate,\n",
    "        '台幣：外幣': 1 / exchangeRate,\n",
    "        '實際價格': macAirPriceTD # macAirPrice * exchangeRate\n",
    "    })\n",
    "macIndex"
   ]
  },
  {
   "cell_type": "code",
   "execution_count": 21,
   "metadata": {
    "collapsed": false
   },
   "outputs": [
    {
     "data": {
      "text/plain": [
       "台灣    1.000000\n",
       "日本    3.850597\n",
       "澳洲    0.042955\n",
       "美國    0.030812\n",
       "香港    0.245098\n",
       "Name: 台幣：外幣, dtype: float64"
      ]
     },
     "execution_count": 21,
     "metadata": {},
     "output_type": "execute_result"
    }
   ],
   "source": [
    "macIndex['台幣：外幣']"
   ]
  },
  {
   "cell_type": "code",
   "execution_count": 25,
   "metadata": {
    "collapsed": false
   },
   "outputs": [
    {
     "data": {
      "text/html": [
       "<div>\n",
       "<table border=\"1\" class=\"dataframe\">\n",
       "  <thead>\n",
       "    <tr style=\"text-align: right;\">\n",
       "      <th></th>\n",
       "      <th>台幣：外幣</th>\n",
       "      <th>原始價格</th>\n",
       "    </tr>\n",
       "  </thead>\n",
       "  <tbody>\n",
       "    <tr>\n",
       "      <th>台灣</th>\n",
       "      <td>1.000000</td>\n",
       "      <td>31900</td>\n",
       "    </tr>\n",
       "    <tr>\n",
       "      <th>日本</th>\n",
       "      <td>3.850597</td>\n",
       "      <td>112800</td>\n",
       "    </tr>\n",
       "    <tr>\n",
       "      <th>澳洲</th>\n",
       "      <td>0.042955</td>\n",
       "      <td>1549</td>\n",
       "    </tr>\n",
       "    <tr>\n",
       "      <th>美國</th>\n",
       "      <td>0.030812</td>\n",
       "      <td>999</td>\n",
       "    </tr>\n",
       "    <tr>\n",
       "      <th>香港</th>\n",
       "      <td>0.245098</td>\n",
       "      <td>7488</td>\n",
       "    </tr>\n",
       "  </tbody>\n",
       "</table>\n",
       "</div>"
      ],
      "text/plain": [
       "       台幣：外幣    原始價格\n",
       "台灣  1.000000   31900\n",
       "日本  3.850597  112800\n",
       "澳洲  0.042955    1549\n",
       "美國  0.030812     999\n",
       "香港  0.245098    7488"
      ]
     },
     "execution_count": 25,
     "metadata": {},
     "output_type": "execute_result"
    }
   ],
   "source": [
    "macIndex[['台幣：外幣', '原始價格']]"
   ]
  },
  {
   "cell_type": "code",
   "execution_count": 26,
   "metadata": {
    "collapsed": false
   },
   "outputs": [
    {
     "name": "stdout",
     "output_type": "stream",
     "text": [
      "Populating the interactive namespace from numpy and matplotlib\n"
     ]
    },
    {
     "data": {
      "text/plain": [
       "<matplotlib.axes._subplots.AxesSubplot at 0x1777208>"
      ]
     },
     "execution_count": 26,
     "metadata": {},
     "output_type": "execute_result"
    },
    {
     "data": {
      "image/png": "[encoded data removed]",
      "text/plain": [
       "<matplotlib.figure.Figure at 0x177d860>"
      ]
     },
     "metadata": {},
     "output_type": "display_data"
    }
   ],
   "source": [
    "%pylab inline\n",
    "macIndex.plot(x = '台幣：外幣', y='原始價格', kind='scatter')"
   ]
  },
  {
   "cell_type": "code",
   "execution_count": 29,
   "metadata": {
    "collapsed": false
   },
   "outputs": [
    {
     "data": {
      "text/html": [
       "<div>\n",
       "<table border=\"1\" class=\"dataframe\">\n",
       "  <thead>\n",
       "    <tr style=\"text-align: right;\">\n",
       "      <th></th>\n",
       "      <th>原始價格</th>\n",
       "      <th>台幣：外幣</th>\n",
       "      <th>外幣：台幣</th>\n",
       "      <th>實際價格</th>\n",
       "      <th>人均GDP</th>\n",
       "    </tr>\n",
       "  </thead>\n",
       "  <tbody>\n",
       "    <tr>\n",
       "      <th>台灣</th>\n",
       "      <td>31900</td>\n",
       "      <td>1.000000</td>\n",
       "      <td>1.0000</td>\n",
       "      <td>31900.000</td>\n",
       "      <td>45853.74</td>\n",
       "    </tr>\n",
       "    <tr>\n",
       "      <th>日本</th>\n",
       "      <td>112800</td>\n",
       "      <td>3.850597</td>\n",
       "      <td>0.2597</td>\n",
       "      <td>29294.160</td>\n",
       "      <td>37389.79</td>\n",
       "    </tr>\n",
       "    <tr>\n",
       "      <th>澳洲</th>\n",
       "      <td>1549</td>\n",
       "      <td>0.042955</td>\n",
       "      <td>23.2800</td>\n",
       "      <td>36060.720</td>\n",
       "      <td>46433.30</td>\n",
       "    </tr>\n",
       "    <tr>\n",
       "      <th>美國</th>\n",
       "      <td>999</td>\n",
       "      <td>0.030812</td>\n",
       "      <td>32.4550</td>\n",
       "      <td>32422.545</td>\n",
       "      <td>54596.65</td>\n",
       "    </tr>\n",
       "    <tr>\n",
       "      <th>香港</th>\n",
       "      <td>7488</td>\n",
       "      <td>0.245098</td>\n",
       "      <td>4.0800</td>\n",
       "      <td>30551.040</td>\n",
       "      <td>54722.12</td>\n",
       "    </tr>\n",
       "  </tbody>\n",
       "</table>\n",
       "</div>"
      ],
      "text/plain": [
       "      原始價格     台幣：外幣    外幣：台幣       實際價格     人均GDP\n",
       "台灣   31900  1.000000   1.0000  31900.000  45853.74\n",
       "日本  112800  3.850597   0.2597  29294.160  37389.79\n",
       "澳洲    1549  0.042955  23.2800  36060.720  46433.30\n",
       "美國     999  0.030812  32.4550  32422.545  54596.65\n",
       "香港    7488  0.245098   4.0800  30551.040  54722.12"
      ]
     },
     "execution_count": 29,
     "metadata": {},
     "output_type": "execute_result"
    }
   ],
   "source": [
    "macIndex['人均GDP'] = pd.Series({\n",
    "    '美國': 54596.65,\n",
    "    '日本': 37389.79,\n",
    "    '台灣': 45853.74,\n",
    "    '香港': 54722.12,\n",
    "    '澳洲': 46433.30\n",
    "})\n",
    "macIndex"
   ]
  },
  {
   "cell_type": "code",
   "execution_count": 35,
   "metadata": {
    "collapsed": false
   },
   "outputs": [
    {
     "data": {
      "text/html": [
       "<div>\n",
       "<table border=\"1\" class=\"dataframe\">\n",
       "  <thead>\n",
       "    <tr style=\"text-align: right;\">\n",
       "      <th></th>\n",
       "      <th>SiteName</th>\n",
       "      <th>County</th>\n",
       "      <th>PSI</th>\n",
       "      <th>MajorPollutant</th>\n",
       "      <th>Status</th>\n",
       "      <th>SO2</th>\n",
       "      <th>CO</th>\n",
       "      <th>O3</th>\n",
       "      <th>PM10</th>\n",
       "      <th>PM2.5</th>\n",
       "      <th>NO2</th>\n",
       "      <th>WindSpeed</th>\n",
       "      <th>WindDirec</th>\n",
       "      <th>FPMI</th>\n",
       "      <th>NOx</th>\n",
       "      <th>NO</th>\n",
       "      <th>PublishTime</th>\n",
       "    </tr>\n",
       "  </thead>\n",
       "  <tbody>\n",
       "    <tr>\n",
       "      <th>0</th>\n",
       "      <td>麥寮</td>\n",
       "      <td>雲林縣</td>\n",
       "      <td>65</td>\n",
       "      <td>懸浮微粒</td>\n",
       "      <td>普通</td>\n",
       "      <td>2.3</td>\n",
       "      <td>0.24</td>\n",
       "      <td>38</td>\n",
       "      <td>78</td>\n",
       "      <td>24</td>\n",
       "      <td>7.2</td>\n",
       "      <td>5.4</td>\n",
       "      <td>86</td>\n",
       "      <td>3</td>\n",
       "      <td>8.51</td>\n",
       "      <td>1.34</td>\n",
       "      <td>2015-12-21 14:00</td>\n",
       "    </tr>\n",
       "    <tr>\n",
       "      <th>1</th>\n",
       "      <td>關山</td>\n",
       "      <td>臺東縣</td>\n",
       "      <td>29</td>\n",
       "      <td>NaN</td>\n",
       "      <td>良好</td>\n",
       "      <td>0.7</td>\n",
       "      <td>NaN</td>\n",
       "      <td>35</td>\n",
       "      <td>10</td>\n",
       "      <td>5</td>\n",
       "      <td>0.7</td>\n",
       "      <td>1.6</td>\n",
       "      <td>224</td>\n",
       "      <td>1</td>\n",
       "      <td>1.33</td>\n",
       "      <td>0.67</td>\n",
       "      <td>2015-12-21 14:00</td>\n",
       "    </tr>\n",
       "    <tr>\n",
       "      <th>2</th>\n",
       "      <td>馬公</td>\n",
       "      <td>澎湖縣</td>\n",
       "      <td>32</td>\n",
       "      <td>NaN</td>\n",
       "      <td>良好</td>\n",
       "      <td>1.6</td>\n",
       "      <td>0.23</td>\n",
       "      <td>35</td>\n",
       "      <td>33</td>\n",
       "      <td>22</td>\n",
       "      <td>4.1</td>\n",
       "      <td>5.3</td>\n",
       "      <td>73</td>\n",
       "      <td>2</td>\n",
       "      <td>5.77</td>\n",
       "      <td>1.63</td>\n",
       "      <td>2015-12-21 14:00</td>\n",
       "    </tr>\n",
       "    <tr>\n",
       "      <th>3</th>\n",
       "      <td>金門</td>\n",
       "      <td>金門縣</td>\n",
       "      <td>66</td>\n",
       "      <td>懸浮微粒</td>\n",
       "      <td>普通</td>\n",
       "      <td>5.3</td>\n",
       "      <td>0.45</td>\n",
       "      <td>30</td>\n",
       "      <td>76</td>\n",
       "      <td>48</td>\n",
       "      <td>20.0</td>\n",
       "      <td>2.5</td>\n",
       "      <td>74</td>\n",
       "      <td>6</td>\n",
       "      <td>24.93</td>\n",
       "      <td>5.32</td>\n",
       "      <td>2015-12-21 14:00</td>\n",
       "    </tr>\n",
       "    <tr>\n",
       "      <th>4</th>\n",
       "      <td>馬祖</td>\n",
       "      <td>連江縣</td>\n",
       "      <td>0</td>\n",
       "      <td>NaN</td>\n",
       "      <td>NaN</td>\n",
       "      <td>1.9</td>\n",
       "      <td>0.32</td>\n",
       "      <td>21</td>\n",
       "      <td>NaN</td>\n",
       "      <td>NaN</td>\n",
       "      <td>9.4</td>\n",
       "      <td>4.4</td>\n",
       "      <td>53</td>\n",
       "      <td>NaN</td>\n",
       "      <td>12.04</td>\n",
       "      <td>2.63</td>\n",
       "      <td>2015-12-21 14:00</td>\n",
       "    </tr>\n",
       "  </tbody>\n",
       "</table>\n",
       "</div>"
      ],
      "text/plain": [
       "  SiteName County  PSI MajorPollutant Status  SO2    CO  O3  PM10  PM2.5  \\\n",
       "0       麥寮    雲林縣   65           懸浮微粒     普通  2.3  0.24  38    78     24   \n",
       "1       關山    臺東縣   29            NaN     良好  0.7   NaN  35    10      5   \n",
       "2       馬公    澎湖縣   32            NaN     良好  1.6  0.23  35    33     22   \n",
       "3       金門    金門縣   66           懸浮微粒     普通  5.3  0.45  30    76     48   \n",
       "4       馬祖    連江縣    0            NaN    NaN  1.9  0.32  21   NaN    NaN   \n",
       "\n",
       "    NO2  WindSpeed  WindDirec  FPMI    NOx    NO       PublishTime  \n",
       "0   7.2        5.4         86     3   8.51  1.34  2015-12-21 14:00  \n",
       "1   0.7        1.6        224     1   1.33  0.67  2015-12-21 14:00  \n",
       "2   4.1        5.3         73     2   5.77  1.63  2015-12-21 14:00  \n",
       "3  20.0        2.5         74     6  24.93  5.32  2015-12-21 14:00  \n",
       "4   9.4        4.4         53   NaN  12.04  2.63  2015-12-21 14:00  "
      ]
     },
     "execution_count": 35,
     "metadata": {},
     "output_type": "execute_result"
    }
   ],
   "source": [
    "airPollution = pd.read_csv('http://opendata.epa.gov.tw/ws/Data/AQX/?format=csv&ndctype=CSV&ndcnid=6074', encoding=\"utf-8-sig\")\n",
    "airPollution.head()"
   ]
  },
  {
   "cell_type": "code",
   "execution_count": 17,
   "metadata": {
    "collapsed": false
   },
   "outputs": [
    {
     "data": {
      "text/plain": [
       "SiteName           object\n",
       "County             object\n",
       "PSI                 int64\n",
       "MajorPollutant     object\n",
       "Status             object\n",
       "SO2               float64\n",
       "CO                float64\n",
       "O3                float64\n",
       "PM10              float64\n",
       "PM2.5             float64\n",
       "NO2               float64\n",
       "WindSpeed         float64\n",
       "WindDirec         float64\n",
       "FPMI              float64\n",
       "NOx               float64\n",
       "NO                float64\n",
       "PublishTime        object\n",
       "dtype: object"
      ]
     },
     "execution_count": 17,
     "metadata": {},
     "output_type": "execute_result"
    }
   ],
   "source": [
    "airPollution.dtypes"
   ]
  },
  {
   "cell_type": "code",
   "execution_count": null,
   "metadata": {
    "collapsed": true
   },
   "outputs": [],
   "source": []
  }
 ],
 "metadata": {
  "kernelspec": {
   "display_name": "Python 3",
   "language": "python",
   "name": "python3"
  },
  "language_info": {
   "codemirror_mode": {
    "name": "ipython",
    "version": 3
   },
   "file_extension": ".py",
   "mimetype": "text/x-python",
   "name": "python",
   "nbconvert_exporter": "python",
   "pygments_lexer": "ipython3",
   "version": "3.4.3"
  }
 },
 "nbformat": 4,
 "nbformat_minor": 0
}
